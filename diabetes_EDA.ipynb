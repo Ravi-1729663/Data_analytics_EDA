{
 "cells": [
  {
   "cell_type": "code",
   "execution_count": null,
   "id": "f609ea9f-f10e-4019-8d01-47c0488c4e8e",
   "metadata": {},
   "outputs": [],
   "source": [
    "# importing libraries\n",
    "import numpy as np\n",
    "import pandas as pd\n",
    "import matplotlib.pyplot as plt\n",
    "import seaborn as sns"
   ]
  },
  {
   "cell_type": "code",
   "execution_count": null,
   "id": "72a242f7-2e6e-4f24-8559-5c56a1ae55e4",
   "metadata": {},
   "outputs": [],
   "source": [
    "# adding file path and name\n",
    "file_path=\"diabetes.csv\"\n",
    "# reading the csv file\n",
    "db=pd.read_csv(file_path)"
   ]
  },
  {
   "cell_type": "code",
   "execution_count": null,
   "id": "dda3c4a0-2292-4f5b-93f4-ec1fce9efb01",
   "metadata": {},
   "outputs": [],
   "source": [
    "# knowing is data read successfuly are not\n",
    "db"
   ]
  },
  {
   "cell_type": "code",
   "execution_count": null,
   "id": "3f2ff632-5cb2-44c7-afdf-44feae245adc",
   "metadata": {},
   "outputs": [],
   "source": [
    "# size of the data set diabetes\n",
    "db.size"
   ]
  },
  {
   "cell_type": "code",
   "execution_count": null,
   "id": "2b0d9e56-3006-45ee-b458-c98d8bbb73b8",
   "metadata": {},
   "outputs": [],
   "source": [
    "# to known the no.of rows and columns\n",
    "db.shape"
   ]
  },
  {
   "cell_type": "code",
   "execution_count": null,
   "id": "beedd886-9276-4d5f-8564-8ff8824c4c55",
   "metadata": {},
   "outputs": [],
   "source": [
    "# list the name of columns\n",
    "db.columns"
   ]
  },
  {
   "cell_type": "code",
   "execution_count": null,
   "id": "acd65208-913b-49b2-b0df-03621740438f",
   "metadata": {},
   "outputs": [],
   "source": [
    "db.info()"
   ]
  },
  {
   "cell_type": "code",
   "execution_count": null,
   "id": "cccb86da-2350-4930-9e90-27a1a68723ba",
   "metadata": {},
   "outputs": [],
   "source": [
    "# to get randomly 10 rows for getting information or understanding\n",
    "db.sample(10)"
   ]
  },
  {
   "cell_type": "code",
   "execution_count": null,
   "id": "f9a2ca2d-0ea1-4346-bde5-faca5a02d80d",
   "metadata": {},
   "outputs": [],
   "source": [
    "for col in db.columns:\n",
    "    print(\"*\"*50)\n",
    "    print(db[col].value_counts())\n",
    "    print(\"*\"*50)"
   ]
  },
  {
   "cell_type": "code",
   "execution_count": null,
   "id": "40393400-7d9e-4ae0-b9d6-a549f15fc192",
   "metadata": {},
   "outputs": [],
   "source": [
    "# checking for duplicates\n",
    "db.duplicated().sum()"
   ]
  },
  {
   "cell_type": "code",
   "execution_count": null,
   "id": "2c3f8eaa-7ebe-4c52-bbea-6396d66b98e8",
   "metadata": {},
   "outputs": [],
   "source": [
    "# checking for null values\n",
    "db.isna().sum()"
   ]
  },
  {
   "cell_type": "code",
   "execution_count": null,
   "id": "68aecd9f-5c5d-440c-a3c9-ebeee93ace81",
   "metadata": {},
   "outputs": [],
   "source": [
    "db.describe()"
   ]
  },
  {
   "cell_type": "code",
   "execution_count": null,
   "id": "37727fcb-191e-4df3-ab8b-b9cb4f7731f5",
   "metadata": {},
   "outputs": [],
   "source": [
    "plt.figure(figsize=(10,6))\n",
    "sns.histplot(db,x=\"Age\",color=\"skyblue\",kde=True)\n",
    "plt.xlim(left=10)\n",
    "plt.ylabel(\"Frequency\")\n",
    "plt.title(\"Age Distribution Of Participants\")\n",
    "plt.savefig(\"hist_age_distibution.png\")\n",
    "plt.show()"
   ]
  },
  {
   "cell_type": "code",
   "execution_count": null,
   "id": "5435f9ad-0114-4008-9a48-572e278951f6",
   "metadata": {},
   "outputs": [],
   "source": [
    "g=sns.catplot(db,y=\"BMI\",kind=\"box\",col=\"Outcome\",col_wrap=2) \n",
    "g.set_titles(col_template=\"{col_name}\")\n",
    "label_map={0:\"No Diabetes\", 1:\"Diabetes\"}\n",
    "for ax, val in zip(g.axes.flat, g.col_names):\n",
    "    ax.set_title(label_map[val])\n",
    "plt.savefig(\"box_db_status.png\")\n",
    "plt.show()"
   ]
  },
  {
   "cell_type": "code",
   "execution_count": null,
   "id": "191494d0-bdd6-4b01-ba87-f6675e74f945",
   "metadata": {},
   "outputs": [],
   "source": [
    "avg_gul=db.groupby(by=\"Outcome\",observed=True)[\"Glucose\"].mean().reset_index()\n",
    "avg_gul[\"Outcome\"]=avg_gul[\"Outcome\"].map({0:\"No Diabetes\",1:\"Diabetes\"})\n",
    "avg_gul"
   ]
  },
  {
   "cell_type": "code",
   "execution_count": null,
   "id": "ac1a214a-22b0-4308-9aae-dd468f1946fd",
   "metadata": {},
   "outputs": [],
   "source": [
    "# bar graph  average Glucose by Diabetes Status\n",
    "sns.catplot(avg_gul,x=\"Outcome\",y=\"Glucose\",kind=\"bar\")\n",
    "plt.xlabel(\"Diabetes Status\")\n",
    "plt.ylabel(\"Average Glucose\")\n",
    "plt.title(\"Average Glucose by Diabetes Status\")\n",
    "plt.savefig(\"bar_avgglucose_dbstatus.png\")\n",
    "plt.show()"
   ]
  },
  {
   "cell_type": "markdown",
   "id": "031256a0-174d-43c0-bf1c-05c19fba8bcb",
   "metadata": {},
   "source": [
    "Avg Glucose is High for people with diabetes compared to those without diabetes people"
   ]
  },
  {
   "cell_type": "code",
   "execution_count": null,
   "id": "bed6cf5c-fbc0-4d31-be54-9e8b46112abb",
   "metadata": {},
   "outputs": [],
   "source": [
    "corelation=db.corr(numeric_only=True)"
   ]
  },
  {
   "cell_type": "code",
   "execution_count": null,
   "id": "94e3de0e-1a04-4ebb-9142-b14785dfdbd4",
   "metadata": {},
   "outputs": [],
   "source": [
    "corelation"
   ]
  },
  {
   "cell_type": "code",
   "execution_count": null,
   "id": "181b9d7b-15da-4d08-af9c-0b5132fd0fe2",
   "metadata": {},
   "outputs": [],
   "source": [
    "sns.heatmap(corelation,annot=True,cmap=\"summer\")\n",
    "plt.savefig(\"heatmap.png\")\n",
    "plt.show()"
   ]
  },
  {
   "cell_type": "code",
   "execution_count": null,
   "id": "a3cb1711-29cd-4bd6-9d8f-79ea77475f44",
   "metadata": {},
   "outputs": [],
   "source": [
    "sns.relplot(db,x=\"Glucose\",y=\"BMI\",kind=\"scatter\",hue=db[\"Outcome\"].map({0: \"No Diabetes\", 1: \"Diabetes\"}),palette={\"No Diabetes\" :\"green\",\"Diabetes\":\"red\"})\n",
    "plt.title(\"Scatter Plot of BMI vs Glucose by Diabetes Status\")\n",
    "plt.savefig(\"sactter_bmi_db_status.png\")\n",
    "plt.show()"
   ]
  },
  {
   "cell_type": "code",
   "execution_count": null,
   "id": "e38de2d2-f95d-44ef-a36f-0b95a1ccd441",
   "metadata": {},
   "outputs": [],
   "source": [
    "sns.catplot(db,x=\"Pregnancies\",kind=\"count\")\n",
    "plt.title(\"Count Plot for No.of Pregnancies\")\n",
    "plt.ylabel(\"Count of pregnancies\")\n",
    "plt.xlabel(\"No.of pregnancies\")\n",
    "plt.savefig(\"count_pregnancie.png\")\n",
    "plt.show()"
   ]
  },
  {
   "cell_type": "code",
   "execution_count": null,
   "id": "d8ae00cd-1381-4e32-ae53-bcad242aead9",
   "metadata": {},
   "outputs": [],
   "source": []
  }
 ],
 "metadata": {
  "kernelspec": {
   "display_name": "Python [conda env:base] *",
   "language": "python",
   "name": "conda-base-py"
  },
  "language_info": {
   "codemirror_mode": {
    "name": "ipython",
    "version": 3
   },
   "file_extension": ".py",
   "mimetype": "text/x-python",
   "name": "python",
   "nbconvert_exporter": "python",
   "pygments_lexer": "ipython3",
   "version": "3.13.5"
  }
 },
 "nbformat": 4,
 "nbformat_minor": 5
}
